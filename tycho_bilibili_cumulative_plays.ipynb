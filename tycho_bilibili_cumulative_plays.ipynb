{
 "cells": [
  {
   "cell_type": "code",
   "execution_count": 10,
   "id": "9f76e78f",
   "metadata": {
    "ExecuteTime": {
     "end_time": "2022-04-05T12:16:02.501415Z",
     "start_time": "2022-04-05T12:16:01.744445Z"
    }
   },
   "outputs": [],
   "source": [
    "import json\n",
    "import numpy as np"
   ]
  },
  {
   "cell_type": "code",
   "execution_count": 12,
   "id": "3c09c04e",
   "metadata": {
    "ExecuteTime": {
     "end_time": "2022-04-05T12:16:35.510490Z",
     "start_time": "2022-04-05T12:16:35.505146Z"
    }
   },
   "outputs": [],
   "source": [
    "d = json.load(open('type.json'))\n",
    "d1 = json.load(open('type1.json'))\n",
    "d2 = json.load(open('type2.json'))"
   ]
  },
  {
   "cell_type": "code",
   "execution_count": 19,
   "id": "4d841eab",
   "metadata": {
    "ExecuteTime": {
     "end_time": "2022-04-05T12:17:12.162682Z",
     "start_time": "2022-04-05T12:17:12.158729Z"
    }
   },
   "outputs": [
    {
     "data": {
      "text/plain": [
       "56255"
      ]
     },
     "execution_count": 19,
     "metadata": {},
     "output_type": "execute_result"
    }
   ],
   "source": [
    "a1 = np.sum([i['play'] for i in d['data']['result']])\n",
    "a2 = np.sum([i['play'] for i in d1['data']['result']])\n",
    "a3 = np.sum([i['play'] for i in d2['data']['result']])\n",
    "a1+a2+a3"
   ]
  },
  {
   "cell_type": "code",
   "execution_count": null,
   "id": "22a82a37",
   "metadata": {},
   "outputs": [],
   "source": []
  }
 ],
 "metadata": {
  "kernelspec": {
   "display_name": "Python 3",
   "language": "python",
   "name": "python3"
  },
  "language_info": {
   "codemirror_mode": {
    "name": "ipython",
    "version": 3
   },
   "file_extension": ".py",
   "mimetype": "text/x-python",
   "name": "python",
   "nbconvert_exporter": "python",
   "pygments_lexer": "ipython3",
   "version": "3.8.8"
  },
  "toc": {
   "toc_cell": false,
   "toc_number_sections": true,
   "toc_threshold": 6,
   "toc_window_display": false
  }
 },
 "nbformat": 4,
 "nbformat_minor": 5
}
